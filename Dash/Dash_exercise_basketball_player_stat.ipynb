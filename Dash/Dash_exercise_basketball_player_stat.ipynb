{
 "cells": [
  {
   "cell_type": "markdown",
   "metadata": {},
   "source": [
    "# Dash Exercise: basketball player stat"
   ]
  },
  {
   "cell_type": "code",
   "execution_count": null,
   "metadata": {},
   "outputs": [],
   "source": [
    "#!pip install dash jupyter_dash\n",
    "#!pip install --upgrade plotly"
   ]
  },
  {
   "cell_type": "code",
   "execution_count": null,
   "metadata": {},
   "outputs": [],
   "source": [
    "from jupyter_dash import JupyterDash # Dash jupyter inline\n",
    "import dash_html_components as html \n",
    "import dash_core_components as dcc \n",
    "from dash.dependencies import Input, Output, State\n",
    "import plotly.express as px\n",
    "import pandas as pd\n",
    "import numpy as np"
   ]
  },
  {
   "cell_type": "markdown",
   "metadata": {},
   "source": [
    "### simple callback example"
   ]
  },
  {
   "cell_type": "code",
   "execution_count": null,
   "metadata": {},
   "outputs": [],
   "source": [
    "app = JupyterDash(__name__)\n",
    "\n",
    "app.layout = html.Div([\n",
    "    html.H5(\"Change the value in the text box to see callbacks in action!\"),\n",
    "    html.Div([\"Input: \",\n",
    "              dcc.Input(id='my-input', value='initial value', type='text')]),\n",
    "    html.Br(),\n",
    "    html.Div(id='my-output'),\n",
    "\n",
    "])\n",
    "\n",
    "\n",
    "@app.callback(\n",
    "    Output(component_id='......', component_property='children'),\n",
    "    [Input(component_id='......', component_property='value')]\n",
    ")\n",
    "def update_output_div(input_value):\n",
    "    return 'Output: {}'.format(input_value)\n",
    "\n",
    "# parameter mode=inline, run_server will start on jupyter notebook\n",
    "app.run_server(mode='inline')"
   ]
  },
  {
   "cell_type": "code",
   "execution_count": null,
   "metadata": {},
   "outputs": [],
   "source": [
    "# readin csv file into dataframe, Plotly mainly access Ddataframe as its input data format\n",
    "df = pd.read_csv('../data/players_stats_by_season_full_details.csv')\n",
    "df.head()"
   ]
  },
  {
   "cell_type": "code",
   "execution_count": null,
   "metadata": {},
   "outputs": [],
   "source": [
    "# summing up for each player\n",
    "df=df.groupby([\"Player\",\"League\"]).sum().drop([\"birth_year\",\"height_cm\",\"weight\",\"weight_kg\"],axis=1)\n",
    "features = df.columns.to_list()\n",
    "df.reset_index(inplace=True)\n",
    "df.head()"
   ]
  },
  {
   "cell_type": "code",
   "execution_count": null,
   "metadata": {},
   "outputs": [],
   "source": [
    "# Make a dropdown to select which \"stat\" parameter to draw histogram\n",
    "# Make a dropdown to select which \"league\" to draw histogram\n",
    "# graph is histogram of stat feature\n",
    "app = JupyterDash(__name__)\n",
    "\n",
    "app.layout = html.Div([\n",
    "                       html.Div([\n",
    "                                 dcc.Dropdown(\n",
    "                                     id='feature_selector',\n",
    "                                     options=[{'value': cnt, 'label': cnt} for cnt in features],\n",
    "                                     value='....',\n",
    "                                     multi=False,\n",
    "                                     style={'width': '50%', 'display': 'inline-block'}\n",
    "                                 ),\n",
    "                                 dcc.Dropdown(\n",
    "                                     id='league_selector',\n",
    "                                     options=[{'value': fac, 'label': fac} for fac in df.League.unique()],\n",
    "                                     value=['....'],\n",
    "                                     multi=True,\n",
    "                                     style={'width': '50%', 'display': 'inline-block'}\n",
    "                                 )\n",
    "                       ]),\n",
    "                       dcc.Graph(id='basketball_graph')\n",
    "])\n",
    "\n",
    "@app.callback(Output(....., 'figure'), [Input(......, 'value'), Input(....., 'value')])\n",
    "def histogram_graph(selected_feature, selected_league):\n",
    "    selected_league = df[df['League'].isin(selected_league)]\n",
    "    figure = px.histogram(selected_league, x=...., color='....')\n",
    "    figure = figure.update_layout(barmode=\"group\")\n",
    "    return figure\n",
    "\n",
    "# parameter mode=inline, run_server will start on jupyter notebook\n",
    "app.run_server(mode='inline')"
   ]
  },
  {
   "cell_type": "code",
   "execution_count": null,
   "metadata": {},
   "outputs": [],
   "source": []
  }
 ],
 "metadata": {
  "kernelspec": {
   "display_name": "Python 3",
   "language": "python",
   "name": "python3"
  },
  "language_info": {
   "codemirror_mode": {
    "name": "ipython",
    "version": 3
   },
   "file_extension": ".py",
   "mimetype": "text/x-python",
   "name": "python",
   "nbconvert_exporter": "python",
   "pygments_lexer": "ipython3",
   "version": "3.7.7"
  }
 },
 "nbformat": 4,
 "nbformat_minor": 2
}
